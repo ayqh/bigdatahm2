{
 "cells": [
  {
   "cell_type": "code",
   "execution_count": 1,
   "metadata": {},
   "outputs": [
    {
     "name": "stderr",
     "output_type": "stream",
     "text": [
      "/home/heng/tfcpu/local/lib/python2.7/site-packages/h5py/__init__.py:36: FutureWarning: Conversion of the second argument of issubdtype from `float` to `np.floating` is deprecated. In future, it will be treated as `np.float64 == np.dtype(float).type`.\n",
      "  from ._conv import register_converters as _register_converters\n",
      "Using TensorFlow backend.\n",
      "/home/heng/tfcpu/local/lib/python2.7/site-packages/sklearn/cross_validation.py:41: DeprecationWarning: This module was deprecated in version 0.18 in favor of the model_selection module into which all the refactored classes and functions are moved. Also note that the interface of the new CV iterators are different from that of this module. This module will be removed in 0.20.\n",
      "  \"This module will be removed in 0.20.\", DeprecationWarning)\n"
     ]
    }
   ],
   "source": [
    "# -*- coding: utf-8 -*-\n",
    "\"\"\"\n",
    "Spyder Editor\n",
    "\n",
    "This is a temporary script file.\n",
    "\"\"\"\n",
    "import numpy\n",
    "import numpy as np\n",
    "import csv\n",
    "import sklearn\n",
    "import keras\n",
    "from keras.datasets import mnist\n",
    "from keras.models import Sequential\n",
    "from keras.layers import Dense, Dropout, Flatten, Activation\n",
    "from keras.layers.convolutional import Convolution2D\n",
    "from keras.layers.convolutional import MaxPooling2D\n",
    "from keras.optimizers import SGD\n",
    "from sklearn.cross_validation import train_test_split\n",
    "import matplotlib.pyplot as plt\n",
    "from keras.utils import np_utils\n",
    "from keras import optimizers\n",
    "from keras import backend as K\n",
    "import random\n",
    "import h5py\n",
    "import scipy.io as sio\n",
    "import pandas as pd\n",
    "K.set_image_dim_ordering('th')\n",
    "# fix random seed for reproducibility\n",
    "seed = 7\n",
    "numpy.random.seed(seed)\n"
   ]
  },
  {
   "cell_type": "code",
   "execution_count": 2,
   "metadata": {},
   "outputs": [],
   "source": [
    "import pandas as pd\n",
    "import numpy as np\n",
    "seq_len=14\n",
    "data_dim=4\n",
    "data_raw=pd.read_csv('train.csv')\n",
    "data_x=data_raw.sequence.values.tolist()\n",
    "num_sample=len(data_x)\n",
    "data_y=data_raw.label.values.tolist()\n",
    "X_train=np.zeros([num_sample,seq_len,data_dim])\n",
    "Y_train=np.zeros(num_sample)\n",
    "i=0\n",
    "for sample in data_x:\n",
    "    j=0\n",
    "    for character in sample:\n",
    "        if character == 'A':\n",
    "            X_train[i,j,0]=1\n",
    "        if character == 'C':\n",
    "            X_train[i,j,1]=1\n",
    "        if character == 'G':\n",
    "            X_train[i,j,2]=1\n",
    "        if character == 'T':\n",
    "            X_train[i,j,3]=1\n",
    "        j=j+1\n",
    "    Y_train[i]=data_y[i]\n",
    "    i=i+1\n",
    "    \n",
    "index=np.arange(len(X_train))\n",
    "np.random.shuffle(index)\n",
    "X_train=X_train[index,:,:]\n",
    "Y_train=Y_train[index]"
   ]
  },
  {
   "cell_type": "code",
   "execution_count": 3,
   "metadata": {},
   "outputs": [
    {
     "data": {
      "text/plain": [
       "(2000, 14, 4)"
      ]
     },
     "execution_count": 3,
     "metadata": {},
     "output_type": "execute_result"
    }
   ],
   "source": [
    "X_train.shape"
   ]
  },
  {
   "cell_type": "code",
   "execution_count": 4,
   "metadata": {},
   "outputs": [],
   "source": [
    "optm=keras.optimizers.Adam(lr=0.001, beta_1=0.9, beta_2=0.999, epsilon=None, decay=0.0, amsgrad=False)"
   ]
  },
  {
   "cell_type": "code",
   "execution_count": 5,
   "metadata": {},
   "outputs": [],
   "source": [
    "def SimpleMLP_model():\n",
    "    model = Sequential()\n",
    "    model.add(keras.layers.LSTM(20,input_shape=[seq_len,data_dim]))#batch_size dimension in input_shape is omitted\n",
    "    model.add(Dense(10))\n",
    "    model.add(Activation('relu'))\n",
    "    model.add(Dense(1))\n",
    "    model.add(Activation('sigmoid'))\n",
    "    model.compile(loss='binary_crossentropy', optimizer=optm, metrics=['accuracy'])\n",
    "    return model"
   ]
  },
  {
   "cell_type": "code",
   "execution_count": 14,
   "metadata": {},
   "outputs": [
    {
     "name": "stdout",
     "output_type": "stream",
     "text": [
      "Train on 1900 samples, validate on 98 samples\n",
      "Epoch 1/30\n",
      "1900/1900 [==============================] - 2s 806us/step - loss: 0.4205 - acc: 0.8195 - val_loss: 0.2808 - val_acc: 0.8980\n",
      "Epoch 2/30\n",
      "1900/1900 [==============================] - 1s 480us/step - loss: 0.3403 - acc: 0.8542 - val_loss: 0.2795 - val_acc: 0.8980\n",
      "Epoch 3/30\n",
      "1900/1900 [==============================] - 1s 469us/step - loss: 0.3393 - acc: 0.8521 - val_loss: 0.2848 - val_acc: 0.8980\n",
      "Epoch 4/30\n",
      "1900/1900 [==============================] - 1s 454us/step - loss: 0.3278 - acc: 0.8579 - val_loss: 0.2926 - val_acc: 0.8980\n",
      "Epoch 5/30\n",
      "1900/1900 [==============================] - 1s 503us/step - loss: 0.3263 - acc: 0.8574 - val_loss: 0.2849 - val_acc: 0.8980\n",
      "Epoch 6/30\n",
      "1900/1900 [==============================] - 1s 470us/step - loss: 0.3273 - acc: 0.8595 - val_loss: 0.2877 - val_acc: 0.9082\n",
      "Epoch 7/30\n",
      "1900/1900 [==============================] - 1s 478us/step - loss: 0.3253 - acc: 0.8621 - val_loss: 0.2949 - val_acc: 0.8980\n",
      "Epoch 8/30\n",
      "1900/1900 [==============================] - 1s 481us/step - loss: 0.3256 - acc: 0.8605 - val_loss: 0.2971 - val_acc: 0.8980\n",
      "Epoch 9/30\n",
      "1900/1900 [==============================] - 1s 468us/step - loss: 0.3246 - acc: 0.8600 - val_loss: 0.2936 - val_acc: 0.8980\n",
      "Epoch 10/30\n",
      "1900/1900 [==============================] - 1s 457us/step - loss: 0.3210 - acc: 0.8589 - val_loss: 0.2976 - val_acc: 0.8980\n",
      "Epoch 11/30\n",
      "1900/1900 [==============================] - 1s 473us/step - loss: 0.3226 - acc: 0.8626 - val_loss: 0.2980 - val_acc: 0.8980\n",
      "Epoch 12/30\n",
      "1900/1900 [==============================] - 1s 473us/step - loss: 0.3203 - acc: 0.8605 - val_loss: 0.2973 - val_acc: 0.8878\n",
      "Epoch 13/30\n",
      "1900/1900 [==============================] - 1s 478us/step - loss: 0.3199 - acc: 0.8653 - val_loss: 0.2944 - val_acc: 0.9082\n",
      "Epoch 14/30\n",
      "1900/1900 [==============================] - 1s 468us/step - loss: 0.3172 - acc: 0.8621 - val_loss: 0.2977 - val_acc: 0.8980\n",
      "Epoch 15/30\n",
      "1900/1900 [==============================] - 1s 468us/step - loss: 0.3169 - acc: 0.8637 - val_loss: 0.3000 - val_acc: 0.8878\n",
      "Epoch 16/30\n",
      "1900/1900 [==============================] - 1s 459us/step - loss: 0.3191 - acc: 0.8616 - val_loss: 0.3021 - val_acc: 0.8878\n",
      "Epoch 17/30\n",
      "1900/1900 [==============================] - 1s 458us/step - loss: 0.3151 - acc: 0.8663 - val_loss: 0.2972 - val_acc: 0.8980\n",
      "Epoch 18/30\n",
      "1900/1900 [==============================] - 1s 476us/step - loss: 0.3133 - acc: 0.8658 - val_loss: 0.3000 - val_acc: 0.8980\n",
      "Epoch 19/30\n",
      "1900/1900 [==============================] - 1s 472us/step - loss: 0.3154 - acc: 0.8647 - val_loss: 0.3045 - val_acc: 0.8980\n",
      "Epoch 20/30\n",
      "1900/1900 [==============================] - 1s 457us/step - loss: 0.3137 - acc: 0.8689 - val_loss: 0.3068 - val_acc: 0.8878\n",
      "Epoch 21/30\n",
      "1900/1900 [==============================] - 1s 487us/step - loss: 0.3117 - acc: 0.8668 - val_loss: 0.3037 - val_acc: 0.8878\n",
      "Epoch 22/30\n",
      "1900/1900 [==============================] - 1s 439us/step - loss: 0.3105 - acc: 0.8653 - val_loss: 0.2978 - val_acc: 0.8878\n",
      "Epoch 23/30\n",
      "1900/1900 [==============================] - 1s 472us/step - loss: 0.3115 - acc: 0.8716 - val_loss: 0.3009 - val_acc: 0.8878\n",
      "Epoch 24/30\n",
      "1900/1900 [==============================] - 1s 471us/step - loss: 0.3095 - acc: 0.8689 - val_loss: 0.2981 - val_acc: 0.8878\n",
      "Epoch 25/30\n",
      "1900/1900 [==============================] - 1s 470us/step - loss: 0.3081 - acc: 0.8711 - val_loss: 0.3009 - val_acc: 0.8980\n",
      "Epoch 26/30\n",
      "1900/1900 [==============================] - 1s 466us/step - loss: 0.3072 - acc: 0.8711 - val_loss: 0.3006 - val_acc: 0.8878\n",
      "Epoch 27/30\n",
      "1900/1900 [==============================] - 1s 461us/step - loss: 0.3079 - acc: 0.8732 - val_loss: 0.2983 - val_acc: 0.8878\n",
      "Epoch 28/30\n",
      "1900/1900 [==============================] - 1s 483us/step - loss: 0.3051 - acc: 0.8747 - val_loss: 0.3051 - val_acc: 0.8980\n",
      "Epoch 29/30\n",
      "1900/1900 [==============================] - 1s 468us/step - loss: 0.3054 - acc: 0.8747 - val_loss: 0.3050 - val_acc: 0.8878\n",
      "Epoch 30/30\n",
      "1900/1900 [==============================] - 1s 467us/step - loss: 0.3027 - acc: 0.8726 - val_loss: 0.2995 - val_acc: 0.8776\n"
     ]
    }
   ],
   "source": [
    "model = SimpleMLP_model()\n",
    "M=1900\n",
    "history=model.fit(X_train[0:M,:,:], Y_train[0:M],validation_data=(X_train[M+1:1999,:,:],  Y_train[M+1:1999]), nb_epoch=30, batch_size=30)"
   ]
  },
  {
   "cell_type": "code",
   "execution_count": 15,
   "metadata": {
    "scrolled": true
   },
   "outputs": [
    {
     "data": {
      "image/png": "[encoded data removed]",
      "text/plain": [
       "<Figure size 432x288 with 1 Axes>"
      ]
     },
     "metadata": {},
     "output_type": "display_data"
    },
    {
     "data": {
      "image/png": "[encoded data removed]",
      "text/plain": [
       "<Figure size 432x288 with 1 Axes>"
      ]
     },
     "metadata": {},
     "output_type": "display_data"
    }
   ],
   "source": [
    "plt.plot(history.history['loss'])\n",
    "plt.plot(history.history['val_loss'])\n",
    "plt.legend(['train','validation'], loc='upper right')\n",
    "plt.title('binary_crossentropy')\n",
    "plt.ylabel('loss')\n",
    "plt.xlabel('epoch')\n",
    "plt.show()\n",
    "\n",
    "plt.plot(history.history['acc'])\n",
    "plt.plot(history.history['val_acc'])\n",
    "plt.legend(['train','validation'], loc='lower right')\n",
    "plt.title('accuracy')\n",
    "plt.ylabel('accuracy')\n",
    "plt.xlabel('epoch')\n",
    "plt.show()"
   ]
  },
  {
   "cell_type": "code",
   "execution_count": 8,
   "metadata": {},
   "outputs": [],
   "source": [
    "y_hat=model.predict(X_train)\n",
    "y_hat=y_hat>0.5\n",
    "confusion_matrix=sklearn.metrics.confusion_matrix(Y_train, y_hat)"
   ]
  },
  {
   "cell_type": "code",
   "execution_count": 9,
   "metadata": {},
   "outputs": [
    {
     "data": {
      "text/plain": [
       "array([[960,  40],\n",
       "       [ 61, 939]])"
      ]
     },
     "execution_count": 9,
     "metadata": {},
     "output_type": "execute_result"
    }
   ],
   "source": [
    "confusion_matrix"
   ]
  },
  {
   "cell_type": "code",
   "execution_count": 10,
   "metadata": {},
   "outputs": [],
   "source": [
    "data_raw=pd.read_csv('test.csv')\n",
    "data_x=data_raw.sequence.values.tolist()\n",
    "num_sample=len(data_x)\n",
    "X_test=np.zeros([num_sample,seq_len,data_dim])\n",
    "i=0\n",
    "for sample in data_x:\n",
    "    j=0\n",
    "    for character in sample:\n",
    "        if character == 'A':\n",
    "            X_test[i,j,0]=1\n",
    "        if character == 'C':\n",
    "            X_test[i,j,1]=1\n",
    "        if character == 'G':\n",
    "            X_test[i,j,2]=1\n",
    "        if character == 'T':\n",
    "            X_test[i,j,3]=1\n",
    "        j=j+1\n",
    "    i=i+1"
   ]
  },
  {
   "cell_type": "code",
   "execution_count": 11,
   "metadata": {},
   "outputs": [
    {
     "data": {
      "image/png": "[encoded data removed]",
      "text/plain": [
       "<Figure size 432x288 with 1 Axes>"
      ]
     },
     "metadata": {},
     "output_type": "display_data"
    }
   ],
   "source": [
    "y_predict=model.predict(X_test)\n",
    "y_predict=y_predict[:,0]\n",
    "plt.hist(y_predict)\n",
    "index=np.arange(len(y_predict))"
   ]
  },
  {
   "cell_type": "code",
   "execution_count": 12,
   "metadata": {},
   "outputs": [
    {
     "data": {
      "text/plain": [
       "(400,)"
      ]
     },
     "execution_count": 12,
     "metadata": {},
     "output_type": "execute_result"
    }
   ],
   "source": [
    "y_predict.shape"
   ]
  },
  {
   "cell_type": "code",
   "execution_count": 13,
   "metadata": {},
   "outputs": [],
   "source": [
    "dataframe = pd.DataFrame({'id':index,'prediction':y_predict})\n",
    "dataframe.to_csv(\"output_lstm.csv\",index=False,sep=',')"
   ]
  },
  {
   "cell_type": "code",
   "execution_count": null,
   "metadata": {},
   "outputs": [],
   "source": []
  }
 ],
 "metadata": {
  "kernelspec": {
   "display_name": "Python 2",
   "language": "python",
   "name": "python2"
  },
  "language_info": {
   "codemirror_mode": {
    "name": "ipython",
    "version": 2
   },
   "file_extension": ".py",
   "mimetype": "text/x-python",
   "name": "python",
   "nbconvert_exporter": "python",
   "pygments_lexer": "ipython2",
   "version": "2.7.12"
  }
 },
 "nbformat": 4,
 "nbformat_minor": 2
}
