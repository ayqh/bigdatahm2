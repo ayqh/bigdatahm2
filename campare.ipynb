{
 "cells": [
  {
   "cell_type": "code",
   "execution_count": 83,
   "metadata": {},
   "outputs": [],
   "source": [
    "import numpy as np\n",
    "import pandas as pd\n",
    "import sklearn.metrics\n",
    "import matplotlib.pyplot as plt\n",
    "\n",
    "data_lstm=np.array(pd.read_csv('output_lstm.csv').prediction.values.tolist())\n",
    "data_fcnn=np.array(pd.read_csv('output_fcnn.csv').prediction.values.tolist())\n",
    "data_fcnn_count=np.array(pd.read_csv('output_fcnn_count.csv').prediction.values.tolist())\n",
    "data_fcnn_onehot=np.array(pd.read_csv('output_fcnn_onehot.csv').prediction.values.tolist())\n",
    "\n",
    "data_lstm_1=np.array(pd.read_csv('output_lstm_1.csv').prediction.values.tolist())\n",
    "data_fcnn_1=np.array(pd.read_csv('output_fcnn_1.csv').prediction.values.tolist())\n",
    "data_fcnn_count_1=np.array(pd.read_csv('output_fcnn_count_1.csv').prediction.values.tolist())\n",
    "data_fcnn_onehot_1=np.array(pd.read_csv('output_fcnn_onehot_1.csv').prediction.values.tolist())"
   ]
  },
  {
   "cell_type": "code",
   "execution_count": 84,
   "metadata": {},
   "outputs": [],
   "source": [
    "comp=data_lstm+data_fcnn+data_fcnn_count+data_fcnn_onehot+data_lstm_1+data_fcnn_1+data_fcnn_count_1+data_fcnn_onehot_1"
   ]
  },
  {
   "cell_type": "code",
   "execution_count": null,
   "metadata": {},
   "outputs": [],
   "source": []
  },
  {
   "cell_type": "code",
   "execution_count": 85,
   "metadata": {},
   "outputs": [
    {
     "data": {
      "text/plain": [
       "array([5.86332248, 1.51978561, 5.28317602, 1.17991387, 2.68276421,\n",
       "       2.24687466, 7.44109299, 0.31235244, 3.63724375, 3.74424464,\n",
       "       7.67675955, 0.61198001, 2.40536284, 2.8521069 , 0.34965442,\n",
       "       1.80010649, 0.48205989, 0.68618007, 7.73267972, 6.25716147,\n",
       "       0.55756778, 7.68126739, 6.09643325, 5.84556587, 2.30466464,\n",
       "       5.31720114, 0.46156141, 6.03551918, 1.69575927, 2.21802082,\n",
       "       4.74976863, 5.05386428, 7.8687521 , 5.02886288, 1.56718618,\n",
       "       0.7885201 , 1.56565153, 6.25475469, 5.72102152, 6.63741107,\n",
       "       0.25074814, 1.63893049, 0.79669885, 2.02690693, 7.82720543,\n",
       "       4.38265309, 3.01921133, 7.8425782 , 0.68387933, 1.32769862,\n",
       "       7.28770213, 6.08954476, 1.66765821, 0.31616502, 2.49381785,\n",
       "       6.77283326, 0.11773994, 6.48638361, 5.93699613, 1.97137264,\n",
       "       1.84389683, 0.39535361, 6.66030187, 7.53670921, 4.69234559,\n",
       "       7.71712143, 1.78807797, 7.13613638, 3.59475725, 0.27937336,\n",
       "       0.13762348, 5.17474232, 3.2961283 , 4.41624448, 6.24880516,\n",
       "       1.12125971, 2.15103154, 5.92770156, 5.71918191, 3.03817664,\n",
       "       0.16126741, 7.6621054 , 0.79514846, 5.26817191, 1.00811967,\n",
       "       1.01164387, 2.21539771, 2.16828205, 0.35786637, 3.5741104 ,\n",
       "       6.16555949, 1.89172374, 0.22870957, 1.79619292, 7.15266047,\n",
       "       2.80173038, 6.94486687, 1.22629816, 5.07580466, 2.42862071,\n",
       "       0.33610112, 7.00452426, 0.76178643, 5.72650649, 7.14811525,\n",
       "       1.84692368, 5.68479027, 7.79448395, 0.53308512, 2.48988861,\n",
       "       6.69371014, 6.31053327, 5.49936929, 5.65652438, 3.3893656 ,\n",
       "       0.4410019 , 1.25722618, 7.80525942, 1.94025217, 5.6572913 ,\n",
       "       7.51079416, 2.01920319, 6.52400214, 4.33906977, 2.68410645,\n",
       "       2.53695938, 5.90994802, 6.13613912, 6.02513772, 5.643964  ,\n",
       "       0.80471049, 1.31854754, 7.81678313, 0.4698273 , 1.73311051,\n",
       "       0.52059286, 5.74201473, 7.60777291, 1.03059011, 7.24252837,\n",
       "       1.61327257, 1.05698998, 5.79706338, 3.10533774, 0.13715373,\n",
       "       1.55357481, 0.07396709, 2.26655267, 4.8697861 , 5.05594778,\n",
       "       4.52341637, 4.97239738, 5.75363079, 1.10482932, 7.07989541,\n",
       "       0.99004913, 2.35185849, 3.58598146, 6.73275888, 4.65719979,\n",
       "       2.57873643, 6.31129928, 6.61762971, 6.30691633, 1.10826054,\n",
       "       7.79990162, 2.88938734, 3.01994189, 3.95386446, 7.1357    ,\n",
       "       4.88784689, 5.8038374 , 7.57016405, 1.01202995, 1.73274821,\n",
       "       1.86016121, 6.22980052, 4.80402308, 2.21130175, 5.86648437,\n",
       "       2.9935192 , 2.41897671, 7.48282288, 7.69020719, 0.88111678,\n",
       "       4.49531725, 4.62786006, 6.12784233, 2.64739786, 7.76967016,\n",
       "       0.21288228, 5.12921377, 2.29931403, 1.91468055, 6.80914501,\n",
       "       2.74549215, 2.06326779, 0.30573488, 4.89854821, 6.23231116,\n",
       "       2.6639326 , 1.30128247, 6.4526491 , 2.21859853, 3.91528509,\n",
       "       4.38773885, 5.29045804, 0.36092828, 0.66268937, 0.08233908,\n",
       "       5.26350041, 5.77853154, 0.37839844, 6.40399714, 1.08426755,\n",
       "       0.08575963, 2.10578529, 1.46554934, 2.19827689, 2.57238158,\n",
       "       3.27576912, 7.90934099, 6.76890698, 1.72636901, 7.12647539,\n",
       "       3.99110685, 6.03721013, 5.09740297, 6.99554865, 5.64620672,\n",
       "       7.4820203 , 6.9319816 , 0.42728472, 0.07409503, 6.95397048,\n",
       "       2.14746907, 0.56240904, 6.9201859 , 2.75515026, 7.71237053,\n",
       "       5.84594356, 1.63116566, 1.81044732, 3.7195027 , 2.84543251,\n",
       "       0.53427409, 7.87730484, 5.1884769 , 0.82219861, 5.92214663,\n",
       "       5.19601401, 0.24337756, 5.66410989, 5.1438826 , 2.99991723,\n",
       "       2.40276358, 7.73824241, 5.37359095, 0.08936316, 1.74708625,\n",
       "       5.44948374, 6.5970302 , 7.84642426, 0.39012915, 2.40591592,\n",
       "       6.94695181, 2.56244291, 6.13629216, 7.4901647 , 5.72964385,\n",
       "       5.12089605, 1.21141133, 2.01952503, 4.87936442, 2.54867978,\n",
       "       0.73173708, 2.1533248 , 5.89055157, 4.68984839, 2.88448004,\n",
       "       0.17342431, 7.06774342, 1.74154686, 2.35760214, 5.92612791,\n",
       "       1.56449192, 7.80791639, 1.82766893, 1.84139949, 4.95647274,\n",
       "       2.73310084, 2.15444531, 7.5686233 , 7.82182751, 4.50685504,\n",
       "       2.04857661, 2.34852592, 0.21756007, 1.78363756, 7.61651288,\n",
       "       5.8931139 , 3.29414929, 7.21320911, 0.75879076, 6.06480981,\n",
       "       7.55958061, 7.80008814, 7.32968248, 0.83786999, 3.88154887,\n",
       "       2.84813678, 1.14228191, 6.07361683, 4.51563652, 7.65052801,\n",
       "       2.92049804, 1.95233875, 6.05791298, 2.21662654, 2.00945712,\n",
       "       3.02373222, 3.64112781, 5.6782692 , 6.42794262, 0.52178459,\n",
       "       6.88829403, 7.07283931, 0.42833587, 4.52281081, 7.67211925,\n",
       "       5.64048141, 2.87633998, 5.27979926, 1.95276406, 2.95646154,\n",
       "       7.82035171, 7.53137394, 5.5383224 , 7.71183969, 7.8754217 ,\n",
       "       0.71612033, 5.7513306 , 6.04834157, 5.49521885, 3.73531171,\n",
       "       4.88316281, 5.02840251, 1.20860704, 2.69096849, 3.26790471,\n",
       "       5.60954222, 7.15906875, 4.59476355, 1.07941474, 5.62156214,\n",
       "       0.13517582, 4.49263207, 5.85433584, 1.37179306, 0.26843357,\n",
       "       2.82786716, 7.69411757, 7.76596756, 5.39280694, 2.77452249,\n",
       "       1.90227505, 1.68211939, 7.83558701, 6.14069598, 0.76578261,\n",
       "       7.8900075 , 0.36249992, 0.51020506, 0.14573747, 4.81504855,\n",
       "       1.96238081, 2.61653102, 0.89950448, 7.87250679, 7.73233004,\n",
       "       2.74611839, 2.16385414, 7.3444188 , 0.7036195 , 6.08317001,\n",
       "       0.35870203, 0.91199789, 0.57620681, 3.28985138, 5.87293706,\n",
       "       0.55651725, 2.13090115, 0.09470842, 2.4215369 , 4.02278858,\n",
       "       7.83527388, 0.13061066, 6.1501373 , 0.9092059 , 1.59654137])"
      ]
     },
     "execution_count": 85,
     "metadata": {},
     "output_type": "execute_result"
    }
   ],
   "source": [
    "comp"
   ]
  },
  {
   "cell_type": "code",
   "execution_count": 87,
   "metadata": {},
   "outputs": [
    {
     "data": {
      "text/plain": [
       "(array([64., 35., 58., 36., 18., 17., 33., 57., 25., 57.]),\n",
       " array([0.07396709, 0.85750448, 1.64104187, 2.42457926, 3.20811665,\n",
       "        3.99165404, 4.77519143, 5.55872882, 6.34226621, 7.1258036 ,\n",
       "        7.90934099]),\n",
       " <a list of 10 Patch objects>)"
      ]
     },
     "execution_count": 87,
     "metadata": {},
     "output_type": "execute_result"
    },
    {
     "data": {
      "image/png": "[encoded data removed]",
      "text/plain": [
       "<Figure size 432x288 with 1 Axes>"
      ]
     },
     "metadata": {},
     "output_type": "display_data"
    }
   ],
   "source": [
    "plt.hist(comp)"
   ]
  },
  {
   "cell_type": "code",
   "execution_count": 88,
   "metadata": {},
   "outputs": [],
   "source": [
    "comp=comp>4\n",
    "comp=comp.astype(int)\n",
    "index=np.arange(len(comp))"
   ]
  },
  {
   "cell_type": "code",
   "execution_count": 89,
   "metadata": {},
   "outputs": [],
   "source": [
    "dataframe = pd.DataFrame({'id':index,'prediction':comp})\n",
    "dataframe.to_csv(\"output_boost.csv\",index=False,sep=',')"
   ]
  },
  {
   "cell_type": "code",
   "execution_count": 90,
   "metadata": {},
   "outputs": [
    {
     "data": {
      "text/plain": [
       "(array([211.,   0.,   0.,   0.,   0.,   0.,   0.,   0.,   0., 189.]),\n",
       " array([0. , 0.1, 0.2, 0.3, 0.4, 0.5, 0.6, 0.7, 0.8, 0.9, 1. ]),\n",
       " <a list of 10 Patch objects>)"
      ]
     },
     "execution_count": 90,
     "metadata": {},
     "output_type": "execute_result"
    },
    {
     "data": {
      "image/png": "[encoded data removed]",
      "text/plain": [
       "<Figure size 432x288 with 1 Axes>"
      ]
     },
     "metadata": {},
     "output_type": "display_data"
    }
   ],
   "source": [
    "plt.hist(comp)"
   ]
  },
  {
   "cell_type": "code",
   "execution_count": null,
   "metadata": {},
   "outputs": [],
   "source": []
  }
 ],
 "metadata": {
  "kernelspec": {
   "display_name": "Python 2",
   "language": "python",
   "name": "python2"
  },
  "language_info": {
   "codemirror_mode": {
    "name": "ipython",
    "version": 2
   },
   "file_extension": ".py",
   "mimetype": "text/x-python",
   "name": "python",
   "nbconvert_exporter": "python",
   "pygments_lexer": "ipython2",
   "version": "2.7.12"
  }
 },
 "nbformat": 4,
 "nbformat_minor": 2
}
